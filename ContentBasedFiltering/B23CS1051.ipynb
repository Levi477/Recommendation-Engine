{
 "cells": [
  {
   "cell_type": "code",
   "execution_count": null,
   "metadata": {},
   "outputs": [
    {
     "name": "stdout",
     "output_type": "stream",
     "text": [
      "Movies similar to 'Avatar': ['Interstellar', 'Avengers: Endgame', 'Avengers: Infinity War', 'Guardians of the Galaxy', 'Mad Max: Fury Road']\n",
      "Movies in 'Action' genre: ['Inception', 'The Dark Knight', 'Avatar', 'The Avengers', 'Deadpool']\n",
      "Movies related to 'space': ['Interstellar', 'Avatar', 'Avengers: Infinity War', 'Guardians of the Galaxy', 'Avengers: Endgame']\n"
     ]
    }
   ],
   "source": [
    "import pandas as pd\n",
    "import numpy as np\n",
    "from sklearn.feature_extraction.text import TfidfVectorizer, CountVectorizer\n",
    "from sklearn.metrics.pairwise import cosine_similarity\n",
    "import re\n",
    "\n",
    "# Load the dataset\n",
    "df = pd.read_csv(\"data.csv\")\n",
    "\n",
    "\n"
   ]
  },
  {
   "cell_type": "code",
   "execution_count": null,
   "metadata": {},
   "outputs": [],
   "source": [
    "def preprocess_text(text):\n",
    "    \"\"\"Preprocess text by converting to lowercase and removing special characters.\"\"\"\n",
    "    if isinstance(text, str):\n",
    "        text = text.lower()\n",
    "        text = re.sub(r'[^a-zA-Z0-9 ]', '', text)\n",
    "    else:\n",
    "        text = \"\"\n",
    "    return text\n",
    "\n",
    "# Preprocess 'overview' column\n",
    "df['overview'] = df['overview'].fillna('')\n",
    "df['overview'] = df['overview'].apply(preprocess_text)\n",
    "\n",
    "# Preprocess 'genres' and 'keywords' columns\n",
    "df['genres'] = df['genres'].fillna('')\n",
    "df['keywords'] = df['keywords'].fillna('')"
   ]
  },
  {
   "cell_type": "code",
   "execution_count": null,
   "metadata": {},
   "outputs": [],
   "source": [
    "def clean_list_column(text):\n",
    "    \"\"\"Convert list-like strings into space-separated words.\"\"\"\n",
    "    return ' '.join(re.findall(r\"\\b\\w+\\b\", text.lower()))\n",
    "\n",
    "df['genres'] = df['genres'].apply(clean_list_column)\n",
    "df['keywords'] = df['keywords'].apply(clean_list_column)\n",
    "\n",
    "# Combine important features into a single column\n",
    "df['combined_features'] = df['overview'] + ' ' + df['genres'] + ' ' + df['keywords']\n",
    "\n",
    "# Convert text data into numerical vectors\n",
    "vectorizer = TfidfVectorizer(stop_words='english')\n",
    "tfidf_matrix = vectorizer.fit_transform(df['combined_features'])\n",
    "\n",
    "# Compute cosine similarity matrix\n",
    "cosine_sim = cosine_similarity(tfidf_matrix, tfidf_matrix)\n",
    "\n",
    "# Create a reverse mapping of indices and movie titles\n",
    "title_to_index = pd.Series(df.index, index=df['title'].str.lower()).to_dict()"
   ]
  },
  {
   "cell_type": "code",
   "execution_count": null,
   "metadata": {},
   "outputs": [],
   "source": [
    "def recommend_movies_by_title(movie_title, num_recommendations=5):\n",
    "    \"\"\"Recommend movies based on a given movie title.\"\"\"\n",
    "    movie_title = movie_title.lower()\n",
    "    if movie_title not in title_to_index:\n",
    "        return \"Movie not found. Please enter a valid title.\"\n",
    "    \n",
    "    idx = title_to_index[movie_title]\n",
    "    sim_scores = list(enumerate(cosine_sim[idx]))\n",
    "    sim_scores = sorted(sim_scores, key=lambda x: x[1], reverse=True)[1:num_recommendations+1]\n",
    "    \n",
    "    recommended_movies = [df.iloc[i[0]]['title'] for i in sim_scores]\n",
    "    return recommended_movies\n",
    "\n",
    "# Search movies by genre\n",
    "def recommend_movies_by_genre(genre, num_recommendations=5):\n",
    "    \"\"\"Recommend movies based on a given genre.\"\"\"\n",
    "    genre = genre.lower()\n",
    "    filtered_df = df[df['genres'].str.contains(genre, case=False, na=False)]\n",
    "    return filtered_df['title'].head(num_recommendations).tolist()\n",
    "\n",
    "# Search movies by keyword\n",
    "def recommend_movies_by_keyword(keyword, num_recommendations=5):\n",
    "    \"\"\"Recommend movies based on a keyword.\"\"\"\n",
    "    keyword = keyword.lower()\n",
    "    filtered_df = df[df['keywords'].str.contains(keyword, case=False, na=False)]\n",
    "    return filtered_df['title'].head(num_recommendations).tolist()\n",
    "\n",
    "# Example Usage\n",
    "print(\"Movies similar to 'Avatar':\", recommend_movies_by_title(\"Avatar\"))\n",
    "print(\"Movies in 'Action' genre:\", recommend_movies_by_genre(\"Action\"))\n",
    "print(\"Movies related to 'space':\", recommend_movies_by_keyword(\"space\"))"
   ]
  }
 ],
 "metadata": {
  "kernelspec": {
   "display_name": "MOVIE",
   "language": "python",
   "name": "python3"
  },
  "language_info": {
   "codemirror_mode": {
    "name": "ipython",
    "version": 3
   },
   "file_extension": ".py",
   "mimetype": "text/x-python",
   "name": "python",
   "nbconvert_exporter": "python",
   "pygments_lexer": "ipython3",
   "version": "3.13.2"
  }
 },
 "nbformat": 4,
 "nbformat_minor": 2
}
