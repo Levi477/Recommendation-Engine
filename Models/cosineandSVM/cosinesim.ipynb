{
 "cells": [
  {
   "cell_type": "code",
   "execution_count": 1,
   "id": "c3bd6fff",
   "metadata": {},
   "outputs": [],
   "source": [
    "import pandas as pd\n",
    "import numpy as np\n",
    "\n",
    "# ----------------------\n",
    "# 1. Load Data\n",
    "# ----------------------\n",
    "df = pd.read_csv(\"cleaned_data.csv\")\n",
    "titles = df[\"title\"].reset_index(drop=True)\n",
    "title_to_index = {title: i for i, title in enumerate(titles)}\n"
   ]
  },
  {
   "cell_type": "code",
   "execution_count": 2,
   "id": "44dade04",
   "metadata": {},
   "outputs": [],
   "source": [
    "def pca_from_scratch(X, k):\n",
    "    X_meaned = X - np.mean(X, axis=0)\n",
    "    cov_mat = np.cov(X_meaned, rowvar=False)\n",
    "    eig_vals, eig_vecs = np.linalg.eigh(cov_mat)\n",
    "    sorted_indices = np.argsort(eig_vals)[::-1]\n",
    "    top_k_eigvecs = eig_vecs[:, sorted_indices[:k]]\n",
    "    X_reduced = np.dot(X_meaned, top_k_eigvecs)\n",
    "    return X_reduced\n"
   ]
  },
  {
   "cell_type": "code",
   "execution_count": 3,
   "id": "7345aae0",
   "metadata": {},
   "outputs": [],
   "source": [
    "def normalize_matrix(matrix):\n",
    "    norms = np.linalg.norm(matrix, axis=1, keepdims=True)\n",
    "    norms[norms == 0] = 1  # Prevent division by zero\n",
    "    return matrix / norms\n",
    "\n",
    "# ----------------------\n",
    "# 4. Feature Preparation\n",
    "# ----------------------\n",
    "X = df.drop(columns=[\"title\", \"imdb_id\"]).values\n",
    "\n",
    "# Apply PCA to reduce dimensionality to 100\n",
    "X_reduced = pca_from_scratch(X, k=100)\n",
    "\n",
    "# Normalize and compute cosine similarity\n",
    "X_normalized = normalize_matrix(X_reduced)\n",
    "cosine_sim = np.dot(X_normalized, X_normalized.T)"
   ]
  },
  {
   "cell_type": "code",
   "execution_count": 4,
   "id": "8ed06d58",
   "metadata": {},
   "outputs": [],
   "source": [
    "def recommend_from_scratch(input_title, top_n=10):\n",
    "    if input_title not in title_to_index:\n",
    "        return f\"'{input_title}' not found in dataset.\"\n",
    "\n",
    "    idx = title_to_index[input_title]\n",
    "    sim_scores = cosine_sim[idx]\n",
    "    similar_indices = np.argsort(sim_scores)[::-1][1:top_n+1]\n",
    "    recommended_titles = titles.iloc[similar_indices].tolist()\n",
    "\n",
    "    return recommended_titles"
   ]
  },
  {
   "cell_type": "code",
   "execution_count": 6,
   "id": "ee75d0ce",
   "metadata": {},
   "outputs": [
    {
     "name": "stdout",
     "output_type": "stream",
     "text": [
      "\n",
      "Top 10 movie recommendations:\n",
      "1. Moon\n",
      "2. 20,000 Leagues Under the Sea\n",
      "3. Finch\n",
      "4. The Zero Theorem\n",
      "5. Beneath the Planet of the Apes\n",
      "6. Fahrenheit 451\n",
      "7. Nineteen Eighty-Four\n",
      "8. Ex Machina\n",
      "9. Z for Zachariah\n",
      "10. Anon\n"
     ]
    }
   ],
   "source": [
    "if __name__ == \"__main__\":\n",
    "    input_title = input(\"Enter a movie title: \")\n",
    "    recommendations = recommend_from_scratch(input_title)\n",
    "\n",
    "    print(\"\\nTop 10 movie recommendations:\")\n",
    "    for i, title in enumerate(recommendations, start=1):\n",
    "        print(f\"{i}. {title}\")"
   ]
  }
 ],
 "metadata": {
  "kernelspec": {
   "display_name": "master",
   "language": "python",
   "name": "python3"
  },
  "language_info": {
   "codemirror_mode": {
    "name": "ipython",
    "version": 3
   },
   "file_extension": ".py",
   "mimetype": "text/x-python",
   "name": "python",
   "nbconvert_exporter": "python",
   "pygments_lexer": "ipython3",
   "version": "3.11.9"
  }
 },
 "nbformat": 4,
 "nbformat_minor": 5
}
