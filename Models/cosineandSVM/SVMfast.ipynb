{
 "cells": [
  {
   "cell_type": "code",
   "execution_count": 33,
   "id": "73531998",
   "metadata": {},
   "outputs": [],
   "source": [
    "import pandas as pd\n",
    "import numpy as np\n",
    "\n",
    "# Load cleaned data\n",
    "df = pd.read_csv(\"cleaned_data.csv\")\n",
    "\n",
    "# Extract titles and features\n",
    "titles = df[\"title\"].reset_index(drop=True)\n",
    "X = df.drop(columns=[\"title\", \"imdb_id\"]).values\n",
    "title_to_index = {title: i for i, title in enumerate(titles)}\n",
    "\n",
    "# Standardize the features manually\n",
    "X_mean = X.mean(axis=0)\n",
    "X_std = X.std(axis=0)\n",
    "X_std[X_std == 0] = 1\n",
    "X_standardized = (X - X_mean) / X_std"
   ]
  },
  {
   "cell_type": "code",
   "execution_count": 34,
   "id": "c19dc4a4",
   "metadata": {},
   "outputs": [],
   "source": [
    "def pca_svd(X, n_components=100):\n",
    "    U, S, Vt = np.linalg.svd(X, full_matrices=False)\n",
    "    return np.dot(X, Vt.T[:, :n_components])  # Projected X\n",
    "\n",
    "X_reduced = pca_svd(X_standardized, n_components=100)"
   ]
  },
  {
   "cell_type": "code",
   "execution_count": 35,
   "id": "77574f3a",
   "metadata": {},
   "outputs": [],
   "source": [
    "def recommend_svm_optimized(input_title, top_n=10, lr=0.01, reg_lambda=0.01, max_iter=300):\n",
    "    if input_title not in title_to_index:\n",
    "        return f\"'{input_title}' not found in dataset.\"\n",
    "\n",
    "    idx = title_to_index[input_title]\n",
    "\n",
    "    y = np.zeros(X_reduced.shape[0])\n",
    "    y[idx] = 1\n",
    "\n",
    "    weights = np.zeros(X_reduced.shape[1])\n",
    "    bias = 0\n",
    "\n",
    "    for i in range(max_iter):\n",
    "        # Vectorized hinge loss gradient\n",
    "        margin = y * (np.dot(X_reduced, weights) + bias)\n",
    "        misclassified = margin < 1\n",
    "\n",
    "        dw = 2 * reg_lambda * weights - np.dot(X_reduced[misclassified].T, y[misclassified])\n",
    "        db = -np.sum(y[misclassified])\n",
    "\n",
    "        # Update weights and bias\n",
    "        weights -= lr * dw\n",
    "        bias -= lr * db\n",
    "\n",
    "        # Early stopping if small updates\n",
    "        if np.linalg.norm(dw) < 1e-4:\n",
    "            break\n",
    "\n",
    "    # Scoring\n",
    "    scores = np.dot(X_reduced, weights) + bias\n",
    "    scores[idx] = -np.inf\n",
    "    recommended_indices = np.argsort(scores)[::-1][:top_n]\n",
    "    return titles.iloc[recommended_indices].tolist()"
   ]
  },
  {
   "cell_type": "code",
   "execution_count": 37,
   "id": "342b9a95",
   "metadata": {},
   "outputs": [
    {
     "name": "stdout",
     "output_type": "stream",
     "text": [
      "\n",
      "Top 10 movie recommendations (Optimized SVM + PCA):\n",
      "1. BPM (Beats per Minute)\n",
      "2. Personal Shopper\n",
      "3. Three Colors: Blue\n",
      "4. Predator 2\n",
      "5. Bean\n",
      "6. Taxi 2\n",
      "7. The Party\n",
      "8. Polisse\n",
      "9. Ratatouille\n",
      "10. Memory\n"
     ]
    }
   ],
   "source": [
    "if __name__ == \"__main__\":\n",
    "    input_title = input(\"Enter a movie title: \")\n",
    "    recommendations = recommend_svm_optimized(input_title)\n",
    "\n",
    "    print(\"\\nTop 10 movie recommendations (Optimized SVM + PCA):\")\n",
    "    if isinstance(recommendations, list):\n",
    "        for i, title in enumerate(recommendations, 1):\n",
    "            print(f\"{i}. {title}\")\n",
    "    else:\n",
    "        print(recommendations)"
   ]
  }
 ],
 "metadata": {
  "kernelspec": {
   "display_name": "master",
   "language": "python",
   "name": "python3"
  },
  "language_info": {
   "codemirror_mode": {
    "name": "ipython",
    "version": 3
   },
   "file_extension": ".py",
   "mimetype": "text/x-python",
   "name": "python",
   "nbconvert_exporter": "python",
   "pygments_lexer": "ipython3",
   "version": "3.11.9"
  }
 },
 "nbformat": 4,
 "nbformat_minor": 5
}
